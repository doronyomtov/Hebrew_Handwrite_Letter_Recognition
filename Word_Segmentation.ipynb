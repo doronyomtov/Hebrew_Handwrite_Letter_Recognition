{
  "nbformat": 4,
  "nbformat_minor": 0,
  "metadata": {
    "colab": {
      "provenance": []
    },
    "kernelspec": {
      "name": "python3",
      "display_name": "Python 3"
    },
    "language_info": {
      "name": "python"
    }
  },
  "cells": [
    {
      "cell_type": "code",
      "execution_count": null,
      "metadata": {
        "id": "voBR6HWl9fk7"
      },
      "outputs": [],
      "source": [
        "class WordSegmenter:\n",
        "  \"\"\"\n",
        "A class for segmating words from line images. (File called Lines_Segmentation #not necessery for usage)\n",
        "1. preprocess : converts the image to grayscale and then to binary image\n",
        "2. find_words : uses morphological dilation to connect letters within words\n",
        "3. extract_words: extract each words boundries\n",
        "\"\"\"\n",
        "\n",
        "    def __init__(self, line_image):\n",
        "        self.line_image = line_image\n",
        "        self.binary_line = None\n",
        "        self.word_boxes = []\n",
        "        self.word_images = []\n",
        "\n",
        "    def preprocess(self):\n",
        "        gray = cv2.cvtColor(self.line_image, cv2.COLOR_BGR2GRAY)\n",
        "        _, binary = cv2.threshold(gray, 0, 255, cv2.THRESH_BINARY_INV + cv2.THRESH_OTSU)\n",
        "        self.binary_line = binary\n",
        "\n",
        "    def find_words(self, min_area=350):\n",
        "        # Dilate to connect letters into words\n",
        "        kernel = cv2.getStructuringElement(cv2.MORPH_RECT, (20, 5))  # Big kernel horizontally\n",
        "        dilated = cv2.dilate(self.binary_line, kernel, iterations=1)\n",
        "\n",
        "        contours, _ = cv2.findContours(dilated, cv2.RETR_EXTERNAL, cv2.CHAIN_APPROX_SIMPLE)\n",
        "\n",
        "        for cnt in contours:\n",
        "            x, y, w, h = cv2.boundingRect(cnt)\n",
        "            if w * h > min_area:\n",
        "                self.word_boxes.append((x, y, w, h))\n",
        "\n",
        "        # Sort RIGHT to LEFT\n",
        "        self.word_boxes = sorted(self.word_boxes, key=lambda b: -b[0])\n",
        "\n",
        "    def extract_words(self):\n",
        "        for (x, y, w, h) in self.word_boxes:\n",
        "            word_img = self.line_image[y:y+h, x:x+w]\n",
        "            self.word_images.append(word_img)\n",
        "\n",
        "    def run(self):\n",
        "        self.preprocess()\n",
        "        self.find_words()\n",
        "        self.extract_words()"
      ]
    }
  ]
}