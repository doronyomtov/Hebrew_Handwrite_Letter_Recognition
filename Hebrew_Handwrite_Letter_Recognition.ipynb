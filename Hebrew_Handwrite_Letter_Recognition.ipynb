{
  "nbformat": 4,
  "nbformat_minor": 0,
  "metadata": {
    "colab": {
      "provenance": []
    },
    "kernelspec": {
      "name": "python3",
      "display_name": "Python 3"
    },
    "language_info": {
      "name": "python"
    }
  },
  "cells": [
    {
      "cell_type": "code",
      "execution_count": 36,
      "metadata": {
        "id": "wee4sC5W8eTg"
      },
      "outputs": [],
      "source": [
        "import pandas as pd\n",
        "import zipfile\n",
        "import rarfile"
      ]
    },
    {
      "cell_type": "code",
      "source": [
        "rarfile.UNRAR_TOOL = \"unrar\"  # or full path to unrar if not in PATH\n",
        "\n",
        "# Open and extract\n",
        "rar = rarfile.RarFile('/content/train.rar')\n",
        "rar.extractall('/content/train')\n",
        "print(\"Extracted to /content/train\")"
      ],
      "metadata": {
        "colab": {
          "base_uri": "https://localhost:8080/"
        },
        "id": "Sq1ciFeg_gkB",
        "outputId": "d8083ab3-2fd3-4ebe-eb9c-970312cd6811"
      },
      "execution_count": 37,
      "outputs": [
        {
          "output_type": "stream",
          "name": "stdout",
          "text": [
            "Extracted to /content/train\n"
          ]
        }
      ]
    },
    {
      "cell_type": "code",
      "source": [
        "from torchvision import datasets, transforms\n",
        "from torch.utils.data import DataLoader\n",
        "from torchvision.datasets.folder import make_dataset\n",
        "\n",
        "# Define Hebrew letters in correct order\n",
        "hebrew_letters = ['א', 'ב', 'ג', 'ד', 'ה', 'ו', 'ז', 'ח', 'ט', 'י',\n",
        "                  'כ','ך','ל', 'מ',\"ם\", 'נ',\"ן\", 'ס', 'ע', 'פ',\"ף\", 'צ',\"ץ\", 'ק', 'ר', 'ש', 'ת']\n",
        "index_to_letter = {str(i): hebrew_letters[i] for i in range(len(hebrew_letters))}"
      ],
      "metadata": {
        "id": "G-0zHJXr8q_6"
      },
      "execution_count": 14,
      "outputs": []
    },
    {
      "cell_type": "code",
      "source": [
        "import os\n",
        "import pandas as pd\n",
        "import numpy as np\n",
        "from PIL import Image\n",
        "\n",
        "image_size = (28, 28)\n",
        "data = []\n",
        "\n",
        "dataset_path = '/content/train/TRAIN'\n",
        "\n",
        "for folder_name in os.listdir(dataset_path):\n",
        "    folder_path = os.path.join(dataset_path, folder_name)\n",
        "    if not os.path.isdir(folder_path) or folder_name not in index_to_letter:\n",
        "        continue\n",
        "\n",
        "    label = index_to_letter[folder_name]  # Hebrew letter\n",
        "\n",
        "    for img_name in os.listdir(folder_path):\n",
        "        img_path = os.path.join(folder_path, img_name)\n",
        "        try:\n",
        "            img = Image.open(img_path).convert('L').resize(image_size)\n",
        "            img_array = np.array(img).flatten()\n",
        "            data.append([*img_array, label])\n",
        "        except Exception as e:\n",
        "            print(f\"⚠️ Failed to load {img_path}: {e}\")\n",
        "\n",
        "# Create DataFrame\n",
        "columns = [f'pixel{i}' for i in range(28*28)] + ['label']\n",
        "df = pd.DataFrame(data, columns=columns)"
      ],
      "metadata": {
        "id": "zF5BvGZWA5QK"
      },
      "execution_count": 39,
      "outputs": []
    },
    {
      "cell_type": "code",
      "source": [
        "import numpy as np\n",
        "import pandas as pd\n",
        "from tensorflow.keras.models import Sequential\n",
        "from tensorflow.keras.layers import Conv2D, MaxPooling2D, Flatten, Dense\n",
        "from tensorflow.keras.utils import to_categorical\n",
        "from sklearn.model_selection import train_test_split\n",
        "from sklearn.preprocessing import LabelEncoder\n",
        "from tensorflow.keras.callbacks import EarlyStopping\n",
        "\n",
        "\n",
        "X = df.drop(columns=['label']).values\n",
        "y = df['label'].values\n",
        "X = X.reshape(-1, 28, 28, 1)\n",
        "X = X.astype('float32') / 255\n",
        "label_encoder = LabelEncoder()\n",
        "y_encoded = label_encoder.fit_transform(y)\n",
        "y = to_categorical(y_encoded)\n",
        "X_train, X_test, y_train, y_test = train_test_split(X, y, test_size=0.2, random_state=42)\n",
        "\n",
        "model = Sequential()\n",
        "model.add(Conv2D(32, (3, 3), activation='relu', input_shape=(28, 28, 1)))\n",
        "model.add(MaxPooling2D(pool_size=(2, 2)))\n",
        "model.add(Conv2D(64, (3, 3), activation='relu'))\n",
        "model.add(MaxPooling2D(pool_size=(2, 2)))\n",
        "model.add(Flatten())\n",
        "model.add(Dense(128, activation='relu'))\n",
        "model.add(Dense(y.shape[1], activation='softmax'))\n",
        "\n",
        "model.compile(optimizer='adam', loss='categorical_crossentropy', metrics=['accuracy'])\n",
        "early_stopping = EarlyStopping(\n",
        "    monitor='val_accuracy',  # Monitor validation accuracy\n",
        "    patience=15,              # Number of epochs with no improvement after which training will be stopped\n",
        "    restore_best_weights=True # Restore model weights from the epoch with the best value of the monitored quantity.\n",
        ")\n",
        "\n",
        "model.fit(X_train, y_train, epochs=100, batch_size=16, validation_data=(X_test, y_test), callbacks=[early_stopping])\n",
        "loss, accuracy = model.evaluate(X_test, y_test)\n",
        "print(f'Test accuracy: {accuracy}')\n"
      ],
      "metadata": {
        "colab": {
          "base_uri": "https://localhost:8080/"
        },
        "id": "dFwzj29xBp4T",
        "outputId": "c787e9cd-b603-4204-a0e1-1e329c0095d7"
      },
      "execution_count": 40,
      "outputs": [
        {
          "output_type": "stream",
          "name": "stderr",
          "text": [
            "/usr/local/lib/python3.11/dist-packages/keras/src/layers/convolutional/base_conv.py:107: UserWarning: Do not pass an `input_shape`/`input_dim` argument to a layer. When using Sequential models, prefer using an `Input(shape)` object as the first layer in the model instead.\n",
            "  super().__init__(activity_regularizer=activity_regularizer, **kwargs)\n"
          ]
        },
        {
          "output_type": "stream",
          "name": "stdout",
          "text": [
            "Epoch 1/100\n",
            "\u001b[1m254/254\u001b[0m \u001b[32m━━━━━━━━━━━━━━━━━━━━\u001b[0m\u001b[37m\u001b[0m \u001b[1m8s\u001b[0m 24ms/step - accuracy: 0.2392 - loss: 2.7096 - val_accuracy: 0.6512 - val_loss: 1.2895\n",
            "Epoch 2/100\n",
            "\u001b[1m254/254\u001b[0m \u001b[32m━━━━━━━━━━━━━━━━━━━━\u001b[0m\u001b[37m\u001b[0m \u001b[1m10s\u001b[0m 22ms/step - accuracy: 0.6938 - loss: 1.1082 - val_accuracy: 0.7340 - val_loss: 1.0142\n",
            "Epoch 3/100\n",
            "\u001b[1m254/254\u001b[0m \u001b[32m━━━━━━━━━━━━━━━━━━━━\u001b[0m\u001b[37m\u001b[0m \u001b[1m9s\u001b[0m 17ms/step - accuracy: 0.7513 - loss: 0.8860 - val_accuracy: 0.7754 - val_loss: 0.8725\n",
            "Epoch 4/100\n",
            "\u001b[1m254/254\u001b[0m \u001b[32m━━━━━━━━━━━━━━━━━━━━\u001b[0m\u001b[37m\u001b[0m \u001b[1m7s\u001b[0m 23ms/step - accuracy: 0.7842 - loss: 0.7486 - val_accuracy: 0.7783 - val_loss: 0.8384\n",
            "Epoch 5/100\n",
            "\u001b[1m254/254\u001b[0m \u001b[32m━━━━━━━━━━━━━━━━━━━━\u001b[0m\u001b[37m\u001b[0m \u001b[1m5s\u001b[0m 18ms/step - accuracy: 0.8174 - loss: 0.6079 - val_accuracy: 0.7842 - val_loss: 0.8407\n",
            "Epoch 6/100\n",
            "\u001b[1m254/254\u001b[0m \u001b[32m━━━━━━━━━━━━━━━━━━━━\u001b[0m\u001b[37m\u001b[0m \u001b[1m6s\u001b[0m 23ms/step - accuracy: 0.8274 - loss: 0.5854 - val_accuracy: 0.7911 - val_loss: 0.8348\n",
            "Epoch 7/100\n",
            "\u001b[1m254/254\u001b[0m \u001b[32m━━━━━━━━━━━━━━━━━━━━\u001b[0m\u001b[37m\u001b[0m \u001b[1m5s\u001b[0m 18ms/step - accuracy: 0.8452 - loss: 0.5215 - val_accuracy: 0.8099 - val_loss: 0.8218\n",
            "Epoch 8/100\n",
            "\u001b[1m254/254\u001b[0m \u001b[32m━━━━━━━━━━━━━━━━━━━━\u001b[0m\u001b[37m\u001b[0m \u001b[1m4s\u001b[0m 17ms/step - accuracy: 0.8723 - loss: 0.4311 - val_accuracy: 0.7980 - val_loss: 0.8902\n",
            "Epoch 9/100\n",
            "\u001b[1m254/254\u001b[0m \u001b[32m━━━━━━━━━━━━━━━━━━━━\u001b[0m\u001b[37m\u001b[0m \u001b[1m6s\u001b[0m 19ms/step - accuracy: 0.8856 - loss: 0.3854 - val_accuracy: 0.8118 - val_loss: 0.8872\n",
            "Epoch 10/100\n",
            "\u001b[1m254/254\u001b[0m \u001b[32m━━━━━━━━━━━━━━━━━━━━\u001b[0m\u001b[37m\u001b[0m \u001b[1m5s\u001b[0m 18ms/step - accuracy: 0.8941 - loss: 0.3357 - val_accuracy: 0.7921 - val_loss: 0.9610\n",
            "Epoch 11/100\n",
            "\u001b[1m254/254\u001b[0m \u001b[32m━━━━━━━━━━━━━━━━━━━━\u001b[0m\u001b[37m\u001b[0m \u001b[1m7s\u001b[0m 25ms/step - accuracy: 0.9082 - loss: 0.2866 - val_accuracy: 0.8020 - val_loss: 0.9787\n",
            "Epoch 12/100\n",
            "\u001b[1m254/254\u001b[0m \u001b[32m━━━━━━━━━━━━━━━━━━━━\u001b[0m\u001b[37m\u001b[0m \u001b[1m5s\u001b[0m 18ms/step - accuracy: 0.9215 - loss: 0.2449 - val_accuracy: 0.7921 - val_loss: 1.0358\n",
            "Epoch 13/100\n",
            "\u001b[1m254/254\u001b[0m \u001b[32m━━━━━━━━━━━━━━━━━━━━\u001b[0m\u001b[37m\u001b[0m \u001b[1m7s\u001b[0m 25ms/step - accuracy: 0.9358 - loss: 0.2067 - val_accuracy: 0.7783 - val_loss: 1.1767\n",
            "Epoch 14/100\n",
            "\u001b[1m254/254\u001b[0m \u001b[32m━━━━━━━━━━━━━━━━━━━━\u001b[0m\u001b[37m\u001b[0m \u001b[1m5s\u001b[0m 18ms/step - accuracy: 0.9329 - loss: 0.1950 - val_accuracy: 0.7803 - val_loss: 1.1555\n",
            "Epoch 15/100\n",
            "\u001b[1m254/254\u001b[0m \u001b[32m━━━━━━━━━━━━━━━━━━━━\u001b[0m\u001b[37m\u001b[0m \u001b[1m5s\u001b[0m 18ms/step - accuracy: 0.9510 - loss: 0.1548 - val_accuracy: 0.7842 - val_loss: 1.1880\n",
            "Epoch 16/100\n",
            "\u001b[1m254/254\u001b[0m \u001b[32m━━━━━━━━━━━━━━━━━━━━\u001b[0m\u001b[37m\u001b[0m \u001b[1m6s\u001b[0m 21ms/step - accuracy: 0.9583 - loss: 0.1392 - val_accuracy: 0.7833 - val_loss: 1.2128\n",
            "Epoch 17/100\n",
            "\u001b[1m254/254\u001b[0m \u001b[32m━━━━━━━━━━━━━━━━━━━━\u001b[0m\u001b[37m\u001b[0m \u001b[1m4s\u001b[0m 17ms/step - accuracy: 0.9628 - loss: 0.1201 - val_accuracy: 0.7852 - val_loss: 1.2819\n",
            "Epoch 18/100\n",
            "\u001b[1m254/254\u001b[0m \u001b[32m━━━━━━━━━━━━━━━━━━━━\u001b[0m\u001b[37m\u001b[0m \u001b[1m5s\u001b[0m 22ms/step - accuracy: 0.9687 - loss: 0.1060 - val_accuracy: 0.7783 - val_loss: 1.4105\n",
            "Epoch 19/100\n",
            "\u001b[1m254/254\u001b[0m \u001b[32m━━━━━━━━━━━━━━━━━━━━\u001b[0m\u001b[37m\u001b[0m \u001b[1m9s\u001b[0m 18ms/step - accuracy: 0.9680 - loss: 0.0966 - val_accuracy: 0.7872 - val_loss: 1.3873\n",
            "Epoch 20/100\n",
            "\u001b[1m254/254\u001b[0m \u001b[32m━━━━━━━━━━━━━━━━━━━━\u001b[0m\u001b[37m\u001b[0m \u001b[1m6s\u001b[0m 22ms/step - accuracy: 0.9768 - loss: 0.0808 - val_accuracy: 0.7783 - val_loss: 1.4924\n",
            "Epoch 21/100\n",
            "\u001b[1m254/254\u001b[0m \u001b[32m━━━━━━━━━━━━━━━━━━━━\u001b[0m\u001b[37m\u001b[0m \u001b[1m10s\u001b[0m 20ms/step - accuracy: 0.9752 - loss: 0.0810 - val_accuracy: 0.7833 - val_loss: 1.6112\n",
            "Epoch 22/100\n",
            "\u001b[1m254/254\u001b[0m \u001b[32m━━━━━━━━━━━━━━━━━━━━\u001b[0m\u001b[37m\u001b[0m \u001b[1m5s\u001b[0m 18ms/step - accuracy: 0.9668 - loss: 0.1039 - val_accuracy: 0.7744 - val_loss: 1.6118\n",
            "Epoch 23/100\n",
            "\u001b[1m254/254\u001b[0m \u001b[32m━━━━━━━━━━━━━━━━━━━━\u001b[0m\u001b[37m\u001b[0m \u001b[1m5s\u001b[0m 18ms/step - accuracy: 0.9713 - loss: 0.0922 - val_accuracy: 0.7842 - val_loss: 1.5265\n",
            "Epoch 24/100\n",
            "\u001b[1m254/254\u001b[0m \u001b[32m━━━━━━━━━━━━━━━━━━━━\u001b[0m\u001b[37m\u001b[0m \u001b[1m6s\u001b[0m 23ms/step - accuracy: 0.9849 - loss: 0.0560 - val_accuracy: 0.7833 - val_loss: 1.7326\n",
            "\u001b[1m32/32\u001b[0m \u001b[32m━━━━━━━━━━━━━━━━━━━━\u001b[0m\u001b[37m\u001b[0m \u001b[1m0s\u001b[0m 9ms/step - accuracy: 0.8023 - loss: 0.9095\n",
            "Test accuracy: 0.8118226528167725\n"
          ]
        }
      ]
    },
    {
      "cell_type": "code",
      "source": [],
      "metadata": {
        "id": "4K0_H_NuLux0"
      },
      "execution_count": null,
      "outputs": []
    }
  ]
}